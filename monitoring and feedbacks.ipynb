{
 "cells": [
  {
   "cell_type": "code",
   "execution_count": null,
   "metadata": {},
   "outputs": [],
   "source": [
    "import logging"
   ]
  },
  {
   "cell_type": "code",
   "execution_count": null,
   "metadata": {},
   "outputs": [],
   "source": [
    "# Set up logging\n",
    "logging.basicConfig(filename='chatbot_interactions.log', level=logging.INFO,\n",
    "                    format='%(asctime)s - %(message)s')\n",
    "\n",
    "def log_interaction(user_query, chatbot_response):\n",
    "    logging.info(f\"User Query: {user_query}\")\n",
    "    logging.info(f\"Chatbot Response: {chatbot_response}\")"
   ]
  },
  {
   "cell_type": "code",
   "execution_count": null,
   "metadata": {},
   "outputs": [],
   "source": [
    "# Usage\n",
    "user_query = \"What is the Worldbank Ideas Project?\"\n",
    "chatbot_response = \"The Worldbank Ideas Project is...\"\n",
    "log_interaction(user_query, chatbot_response)"
   ]
  },
  {
   "cell_type": "code",
   "execution_count": null,
   "metadata": {},
   "outputs": [],
   "source": [
    "def collect_feedback():\n",
    "    feedback = input(\"Was this response helpful? (yes/no): \").strip().lower()\n",
    "    if feedback == 'yes':\n",
    "        print(\"Thank you for your feedback! We're glad we could help.\")\n",
    "    elif feedback == 'no':\n",
    "        print(\"We're sorry to hear that. Please let us know how we can improve.\")\n",
    "        improvement_suggestion = input(\"Your suggestion: \")\n",
    "        # Log the feedback and suggestion\n",
    "        logging.info(f\"User Feedback: {feedback}, Suggestion: {improvement_suggestion}\")\n",
    "    else:\n",
    "        print(\"Invalid input. Please type 'yes' or 'no'.\")"
   ]
  },
  {
   "cell_type": "code",
   "execution_count": null,
   "metadata": {},
   "outputs": [],
   "source": [
    "# Usage\n",
    "collect_feedback()"
   ]
  }
 ],
 "metadata": {
  "language_info": {
   "name": "python"
  }
 },
 "nbformat": 4,
 "nbformat_minor": 2
}
