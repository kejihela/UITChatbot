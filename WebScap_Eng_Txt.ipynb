{
  "cells": [
    {
      "cell_type": "code",
      "execution_count": 4,
      "metadata": {
        "id": "tSGyvQ8godc3"
      },
      "outputs": [],
      "source": [
        "# Define the path to save the file in Google Drive\n",
        "save_path = \"doc1.txt\""
      ]
    },
    {
      "cell_type": "code",
      "execution_count": 5,
      "metadata": {
        "colab": {
          "base_uri": "https://localhost:8080/"
        },
        "id": "eAriuFcKkx51",
        "outputId": "c79e396f-c507-4be0-a22d-0497ee430da4"
      },
      "outputs": [
        {
          "name": "stdout",
          "output_type": "stream",
          "text": [
            "Scraped data saved to doc1.txt\n"
          ]
        }
      ],
      "source": [
        "\n",
        "# Mount Google Drive in Colab.\n",
        "# Scrape text from the target website.\n",
        "# Save the extracted text to a file in Google Drive.\n",
        "\n",
        "import requests\n",
        "from bs4 import BeautifulSoup\n",
        "import os\n",
        "\n",
        "\n",
        "\n",
        "\n",
        "# URL of the webpage to scrape (replace with actual URL)\n",
        "url = 'https://en.wikipedia.org/wiki/Artificial_intelligence'\n",
        "\n",
        "# Send a GET request to the webpage\n",
        "response = requests.get(url)\n",
        "soup = BeautifulSoup(response.content, 'html.parser')\n",
        "\n",
        "# Find all paragraph tags\n",
        "paragraphs = soup.find_all('p')\n",
        "\n",
        "# Extract text and save to a file\n",
        "with open(save_path, 'w', encoding='utf-8') as file:\n",
        "    for para in paragraphs:\n",
        "        text = para.get_text().strip()\n",
        "        if text:\n",
        "            file.write(text + \"\\n\\n\")\n",
        "\n",
        "print(f\"Scraped data saved to {save_path}\")\n"
      ]
    },
    {
      "cell_type": "code",
      "execution_count": null,
      "metadata": {
        "id": "ziJYFPIG38eF"
      },
      "outputs": [],
      "source": []
    }
  ],
  "metadata": {
    "colab": {
      "provenance": []
    },
    "kernelspec": {
      "display_name": "EL",
      "language": "python",
      "name": "python3"
    },
    "language_info": {
      "codemirror_mode": {
        "name": "ipython",
        "version": 3
      },
      "file_extension": ".py",
      "mimetype": "text/x-python",
      "name": "python",
      "nbconvert_exporter": "python",
      "pygments_lexer": "ipython3",
      "version": "3.12.8"
    }
  },
  "nbformat": 4,
  "nbformat_minor": 0
}
